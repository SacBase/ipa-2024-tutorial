{
 "cells": [
  {
   "cell_type": "markdown",
   "id": "651de72f",
   "metadata": {},
   "source": [
    "## Task 1\n",
    "\n",
    "Define a function `rotate` that shifts the values of a given array, wrapping element back around.\n",
    "\n",
    "If the count is positive, shift all values to the right and wrap elements back around to the front. <br>\n",
    "If the count is negative, shift all values to the left and wrap elements back around to the back.\n",
    "\n",
    "```\n",
    "$ rotate1(1, [1,2,3,4,5])\n",
    "Dimension:  1\n",
    "Shape    : <  5>\n",
    "<5, 1, 2, 3, 4 >\n",
    "```\n",
    "\n",
    "```\n",
    "$ rotate1(2, [1,2,3,4,5])\n",
    "Dimension:  1\n",
    "Shape    : <  5>\n",
    "<4, 5, 1, 2, 3 >\n",
    "```\n",
    "\n",
    "```\n",
    "$ rotate1(-, [1,2,3,4,5])\n",
    "Dimension:  1\n",
    "Shape    : <  5>\n",
    "<2, 3, 4, 5, 1 >\n",
    "```\n",
    "\n",
    "```\n",
    "$ rotate1(-2, [1,2,3,4,5])\n",
    "Dimension:  1\n",
    "Shape    : <  5>\n",
    "<3, 4, 5, 1, 2 >\n",
    "```\n",
    "\n",
    "_Tip: tensor comprehensions can have case distinctions:_\n",
    "\n",
    "```\n",
    "{ iv -> expr1 | case1;\n",
    "  iv -> expr2 | case2\n",
    "};\n",
    "```"
   ]
  },
  {
   "cell_type": "code",
   "execution_count": 1,
   "id": "7b1cce54",
   "metadata": {},
   "outputs": [],
   "source": [
    "double[n] rotate1(int count, double[n] arr)\n",
    "{\n",
    "    // TODO\n",
    "}"
   ]
  },
  {
   "cell_type": "code",
   "execution_count": 2,
   "id": "20ad2742",
   "metadata": {},
   "outputs": [
    {
     "name": "stdout",
     "output_type": "stream",
     "text": [
      "Dimension:  1\n",
      "Shape    : <  5>\n",
      "<5.000000e+00 1.000000e+00 2.000000e+00 3.000000e+00 4.000000e+00 > \n"
     ]
    }
   ],
   "source": [
    "rotate1(1, [1d,2d,3d,4d,5d])"
   ]
  },
  {
   "cell_type": "code",
   "execution_count": 3,
   "id": "b09de6a4",
   "metadata": {
    "scrolled": true
   },
   "outputs": [
    {
     "name": "stdout",
     "output_type": "stream",
     "text": [
      "Dimension:  1\n",
      "Shape    : <  5>\n",
      "<4.000000e+00 5.000000e+00 1.000000e+00 2.000000e+00 3.000000e+00 > \n"
     ]
    }
   ],
   "source": [
    "rotate1(2, [1d,2d,3d,4d,5d])"
   ]
  },
  {
   "cell_type": "code",
   "execution_count": 4,
   "id": "30ab897c",
   "metadata": {},
   "outputs": [
    {
     "name": "stdout",
     "output_type": "stream",
     "text": [
      "Dimension:  1\n",
      "Shape    : <  5>\n",
      "<2.000000e+00 3.000000e+00 4.000000e+00 5.000000e+00 1.000000e+00 > \n"
     ]
    }
   ],
   "source": [
    "rotate1(-1, [1d,2d,3d,4d,5d])"
   ]
  },
  {
   "cell_type": "code",
   "execution_count": 5,
   "id": "6182b2f6",
   "metadata": {},
   "outputs": [
    {
     "name": "stdout",
     "output_type": "stream",
     "text": [
      "Dimension:  1\n",
      "Shape    : <  5>\n",
      "<3.000000e+00 4.000000e+00 5.000000e+00 1.000000e+00 2.000000e+00 > \n"
     ]
    }
   ],
   "source": [
    "rotate1(-2, [1d,2d,3d,4d,5d])"
   ]
  },
  {
   "cell_type": "markdown",
   "id": "9679ff57",
   "metadata": {},
   "source": [
    "## Task 2\n",
    "\n",
    "Define a function `rotate2` that does the same as `rotate1`, but now on two-dimensional inputs.\n",
    "\n",
    "```\n",
    "$ rotate2([1,2], [[1,2,3], [4,5,6], [7,8,9]])\n",
    "Dimension:  2\n",
    "Shape    : <  3,  3>\n",
    "|8 9 7 | \n",
    "|2 3 1 | \n",
    "|5 6 4 | \n",
    "```\n",
    "\n",
    "```\n",
    "$ rotate2([-2,-1], [[1,2,3], [4,5,6], [7,8,9]])\n",
    "Dimension:  2\n",
    "Shape    : <  3,  3>\n",
    "|8 9 7 | \n",
    "|2 3 1 | \n",
    "|5 6 4 |\n",
    "```\n",
    "\n",
    "```\n",
    "$ rotate2([2,-1], [[1,2,3], [4,5,6], [7,8,9]])\n",
    "Dimension:  2\n",
    "Shape    : <  3,  3>\n",
    "|5 6 4 | \n",
    "|8 9 7 | \n",
    "|2 3 1 |\n",
    "```"
   ]
  },
  {
   "cell_type": "code",
   "execution_count": 6,
   "id": "f09e6d13",
   "metadata": {},
   "outputs": [],
   "source": [
    "double[n,n] rotate2(int[2] count, double[n,n] arr)\n",
    "{\n",
    "    // TODO\n",
    "}"
   ]
  },
  {
   "cell_type": "code",
   "execution_count": 7,
   "id": "fb120f23",
   "metadata": {},
   "outputs": [
    {
     "name": "stdout",
     "output_type": "stream",
     "text": [
      "Dimension:  2\n",
      "Shape    : <  3,  3>\n",
      "|8.000000e+00 9.000000e+00 7.000000e+00 | \n",
      "|2.000000e+00 3.000000e+00 1.000000e+00 | \n",
      "|5.000000e+00 6.000000e+00 4.000000e+00 | \n",
      "\n"
     ]
    }
   ],
   "source": [
    "rotate2([1,2], [[1d,2d,3d], [4d,5d,6d], [7d,8d,9d]])"
   ]
  },
  {
   "cell_type": "code",
   "execution_count": 8,
   "id": "90420f48",
   "metadata": {},
   "outputs": [
    {
     "name": "stdout",
     "output_type": "stream",
     "text": [
      "Dimension:  2\n",
      "Shape    : <  3,  3>\n",
      "|8.000000e+00 9.000000e+00 7.000000e+00 | \n",
      "|2.000000e+00 3.000000e+00 1.000000e+00 | \n",
      "|5.000000e+00 6.000000e+00 4.000000e+00 | \n",
      "\n"
     ]
    }
   ],
   "source": [
    "rotate2([-2,-1], [[1d,2d,3d], [4d,5d,6d], [7d,8d,9d]])"
   ]
  },
  {
   "cell_type": "code",
   "execution_count": 9,
   "id": "b8fdcde3",
   "metadata": {},
   "outputs": [
    {
     "name": "stdout",
     "output_type": "stream",
     "text": [
      "Dimension:  2\n",
      "Shape    : <  3,  3>\n",
      "|5.000000e+00 6.000000e+00 4.000000e+00 | \n",
      "|8.000000e+00 9.000000e+00 7.000000e+00 | \n",
      "|2.000000e+00 3.000000e+00 1.000000e+00 | \n",
      "\n"
     ]
    }
   ],
   "source": [
    "rotate2([2,-1], [[1d,2d,3d], [4d,5d,6d], [7d,8d,9d]])"
   ]
  },
  {
   "cell_type": "markdown",
   "id": "894bbfbc",
   "metadata": {},
   "source": [
    "---"
   ]
  },
  {
   "cell_type": "markdown",
   "id": "0fde7ccd",
   "metadata": {},
   "source": [
    "# Relaxation\n",
    "\n",
    "<img src=\"images/relax.png\" width=\"500px\">"
   ]
  },
  {
   "cell_type": "markdown",
   "id": "b9b3d92d",
   "metadata": {},
   "source": [
    "## Task 3\n",
    "\n",
    "Define a function `relax1` that decreases each value in an array by some amount."
   ]
  },
  {
   "cell_type": "code",
   "execution_count": 10,
   "id": "9d6f2b68",
   "metadata": {},
   "outputs": [],
   "source": [
    "double[n,n] relax1(double by, double[n,n] arr)\n",
    "{\n",
    "    // TODO\n",
    "}"
   ]
  },
  {
   "cell_type": "code",
   "execution_count": 11,
   "id": "6b197978",
   "metadata": {},
   "outputs": [],
   "source": [
    "arr = genarray([5,5], 2d);"
   ]
  },
  {
   "cell_type": "code",
   "execution_count": 13,
   "id": "016e4ac2",
   "metadata": {
    "scrolled": true
   },
   "outputs": [
    {
     "name": "stdout",
     "output_type": "stream",
     "text": [
      "Dimension:  2\n",
      "Shape    : <  5,  5>\n",
      "|1.000000e+00 1.000000e+00 1.000000e+00 1.000000e+00 1.000000e+00 | \n",
      "|1.000000e+00 1.000000e+00 1.000000e+00 1.000000e+00 1.000000e+00 | \n",
      "|1.000000e+00 1.000000e+00 1.000000e+00 1.000000e+00 1.000000e+00 | \n",
      "|1.000000e+00 1.000000e+00 1.000000e+00 1.000000e+00 1.000000e+00 | \n",
      "|1.000000e+00 1.000000e+00 1.000000e+00 1.000000e+00 1.000000e+00 | \n",
      "\n"
     ]
    }
   ],
   "source": [
    "// Should print all ones\n",
    "relax1(0.5, arr)"
   ]
  },
  {
   "cell_type": "markdown",
   "id": "91a36880",
   "metadata": {},
   "source": [
    "## Task 4\n",
    "\n",
    "Define a function `relax3` that, given an array of weights, relaxes each element by multiplying itself and its neighbours by the given weights and summing the results."
   ]
  },
  {
   "cell_type": "code",
   "execution_count": 14,
   "id": "84e28839",
   "metadata": {},
   "outputs": [],
   "source": [
    "double[n,n] relax3(double[3,3] weights, double[n,n] arr)\n",
    "{\n",
    "    // TODO\n",
    "}"
   ]
  },
  {
   "cell_type": "code",
   "execution_count": 15,
   "id": "3ba03974",
   "metadata": {},
   "outputs": [],
   "source": [
    "weights = [[0d, 2d, 0d],\n",
    "           [1d, 4d, 1d],\n",
    "           [0d, 2d, 0d]];\n",
    "// Normalise\n",
    "weights /= sum(weights);\n",
    "\n",
    "arr = genarray([5,5], 0d);\n",
    "arr[2,2] = 1d;"
   ]
  },
  {
   "cell_type": "code",
   "execution_count": 16,
   "id": "8a789377",
   "metadata": {},
   "outputs": [
    {
     "name": "stdout",
     "output_type": "stream",
     "text": [
      "Dimension:  2\n",
      "Shape    : <  5,  5>\n",
      "|0.000000e+00 0.000000e+00 0.000000e+00 0.000000e+00 0.000000e+00 | \n",
      "|0.000000e+00 0.000000e+00 2.000000e-01 0.000000e+00 0.000000e+00 | \n",
      "|0.000000e+00 1.000000e-01 4.000000e-01 1.000000e-01 0.000000e+00 | \n",
      "|0.000000e+00 0.000000e+00 2.000000e-01 0.000000e+00 0.000000e+00 | \n",
      "|0.000000e+00 0.000000e+00 0.000000e+00 0.000000e+00 0.000000e+00 | \n",
      "\n"
     ]
    }
   ],
   "source": [
    "relax3(weights, arr)"
   ]
  },
  {
   "cell_type": "markdown",
   "id": "656a1b93",
   "metadata": {},
   "source": [
    "## Task 5\n",
    "\n",
    "Define a version of relax that works for variable-sized weights."
   ]
  },
  {
   "cell_type": "code",
   "execution_count": 17,
   "id": "bd6d7713",
   "metadata": {},
   "outputs": [],
   "source": [
    "double[n,n] relax(double[m,m] weights, double[n,n] arr)\n",
    "{\n",
    "    // TODO\n",
    "}"
   ]
  },
  {
   "cell_type": "code",
   "execution_count": 18,
   "id": "58e8dec2",
   "metadata": {},
   "outputs": [],
   "source": [
    "weights = [[0d, 2d, 0d],\n",
    "           [1d, 4d, 1d],\n",
    "           [0d, 2d, 0d]];\n",
    "// Normalise\n",
    "weights /= sum(weights);\n",
    "\n",
    "arr = genarray([5,5], 0d);\n",
    "arr[2,2] = 1d;"
   ]
  },
  {
   "cell_type": "code",
   "execution_count": 19,
   "id": "a7ed9106",
   "metadata": {},
   "outputs": [
    {
     "name": "stdout",
     "output_type": "stream",
     "text": [
      "Dimension:  2\n",
      "Shape    : <  5,  5>\n",
      "|0.000000e+00 0.000000e+00 0.000000e+00 0.000000e+00 0.000000e+00 | \n",
      "|0.000000e+00 0.000000e+00 2.000000e-01 0.000000e+00 0.000000e+00 | \n",
      "|0.000000e+00 1.000000e-01 4.000000e-01 1.000000e-01 0.000000e+00 | \n",
      "|0.000000e+00 0.000000e+00 2.000000e-01 0.000000e+00 0.000000e+00 | \n",
      "|0.000000e+00 0.000000e+00 0.000000e+00 0.000000e+00 0.000000e+00 | \n",
      "\n"
     ]
    }
   ],
   "source": [
    "relax(weights, arr)"
   ]
  },
  {
   "cell_type": "code",
   "execution_count": 20,
   "id": "e486add0",
   "metadata": {},
   "outputs": [],
   "source": [
    "weights = [[0d, 0d, 1d, 0d, 0d],\n",
    "           [0d, 1d, 2d, 1d, 0d],\n",
    "           [1d, 2d, 4d, 2d, 1d],\n",
    "           [0d, 1d, 2d, 1d, 0d],\n",
    "           [0d, 0d, 1d, 0d, 0d]];\n",
    "// Normalise\n",
    "weights /= sum(weights);\n",
    "\n",
    "arr = genarray([5,5], 0d);\n",
    "arr[2,2] = 1d;"
   ]
  },
  {
   "cell_type": "code",
   "execution_count": 21,
   "id": "68fe0df0",
   "metadata": {},
   "outputs": [
    {
     "name": "stdout",
     "output_type": "stream",
     "text": [
      "Dimension:  2\n",
      "Shape    : <  5,  5>\n",
      "|0.000000e+00 0.000000e+00 5.000000e-02 0.000000e+00 0.000000e+00 | \n",
      "|0.000000e+00 5.000000e-02 1.000000e-01 5.000000e-02 0.000000e+00 | \n",
      "|5.000000e-02 1.000000e-01 2.000000e-01 1.000000e-01 5.000000e-02 | \n",
      "|0.000000e+00 5.000000e-02 1.000000e-01 5.000000e-02 0.000000e+00 | \n",
      "|0.000000e+00 0.000000e+00 5.000000e-02 0.000000e+00 0.000000e+00 | \n",
      "\n"
     ]
    }
   ],
   "source": [
    "relax(weights, arr)"
   ]
  },
  {
   "cell_type": "code",
   "execution_count": null,
   "id": "57411ab9",
   "metadata": {},
   "outputs": [],
   "source": []
  }
 ],
 "metadata": {
  "kernelspec": {
   "display_name": "SaC",
   "language": "sac",
   "name": "sac"
  },
  "language_info": {
   "file_extension": ".sac",
   "mimetype": "text/plain",
   "name": "sac"
  }
 },
 "nbformat": 4,
 "nbformat_minor": 5
}
