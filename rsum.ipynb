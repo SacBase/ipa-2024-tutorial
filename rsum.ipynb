{
 "cells": [
  {
   "cell_type": "markdown",
   "id": "533364ef",
   "metadata": {},
   "source": [
    "# Sum"
   ]
  },
  {
   "cell_type": "markdown",
   "id": "7b092efa",
   "metadata": {},
   "source": [
    "## Task 1\n",
    "\n",
    "Define a function `vsum` which computes a summation across the leftmost axis. <br>\n",
    "Do this using a tensor comprehension, and `sum` from the standard library.\n",
    "\n",
    "```\n",
    "$ vsum(a)\n",
    "Dimension:  2\n",
    "Shape    : <  3,  4>\n",
    "|12 14 16 18 | \n",
    "|20 22 24 26 | \n",
    "|28 30 32 34 | \n",
    "```\n",
    "\n",
    "```\n",
    "$ vsum(b)\n",
    "Dimension:  0\n",
    "Shape    : < >\n",
    " 36\n",
    "```"
   ]
  },
  {
   "cell_type": "code",
   "execution_count": 10,
   "id": "54c51b55",
   "metadata": {},
   "outputs": [],
   "source": [
    "int[m:ishp] vsum(int[n,m:ishp] arr)\n",
    "{\n",
    "    // TODO\n",
    "}"
   ]
  },
  {
   "cell_type": "code",
   "execution_count": 11,
   "id": "7cb3640c",
   "metadata": {},
   "outputs": [],
   "source": [
    "a = reshape([2,3,4], iota(24));\n",
    "b = [1,2,3,4,5,6,7,8];"
   ]
  },
  {
   "cell_type": "code",
   "execution_count": 12,
   "id": "ed7368e8",
   "metadata": {},
   "outputs": [
    {
     "name": "stdout",
     "output_type": "stream",
     "text": [
      "Dimension:  2\n",
      "Shape    : <  3,  4>\n",
      "|12 14 16 18 | \n",
      "|20 22 24 26 | \n",
      "|28 30 32 34 | \n",
      "\n"
     ]
    }
   ],
   "source": [
    "vsum(a)"
   ]
  },
  {
   "cell_type": "code",
   "execution_count": 13,
   "id": "c7a85298",
   "metadata": {},
   "outputs": [
    {
     "name": "stdout",
     "output_type": "stream",
     "text": [
      "Dimension:  0\n",
      "Shape    : < >\n",
      " 36\n"
     ]
    }
   ],
   "source": [
    "vsum(b)"
   ]
  },
  {
   "cell_type": "markdown",
   "id": "9033b3cd",
   "metadata": {},
   "source": [
    "## Task 2\n",
    "\n",
    "Now define a function `rsum` which takes an integer number as first argument that indicates how many dimensions should be reduced. <br>\n",
    "I.e., if `n` is 1 then the same behaviour should be observed as `vsum`.\n",
    "\n",
    "```\n",
    "$ rsum(2, a)\n",
    "Dimension:  1\n",
    "Shape    : <  4>\n",
    "<60 66 72 78 > \n",
    "```\n",
    "\n",
    "```\n",
    "$ rsum(3, a)\n",
    "Dimension:  0\n",
    "Shape    : < >\n",
    " 276\n",
    "```"
   ]
  },
  {
   "cell_type": "code",
   "execution_count": 14,
   "id": "38a2eeda",
   "metadata": {},
   "outputs": [],
   "source": [
    "int[m:ishp] rsum(int n, int[n:oshp,m:ishp] arr)\n",
    "{\n",
    "    // TODO\n",
    "}"
   ]
  },
  {
   "cell_type": "code",
   "execution_count": 15,
   "id": "16eb34c8",
   "metadata": {},
   "outputs": [
    {
     "name": "stdout",
     "output_type": "stream",
     "text": [
      "Dimension:  2\n",
      "Shape    : <  3,  4>\n",
      "|12 14 16 18 | \n",
      "|20 22 24 26 | \n",
      "|28 30 32 34 | \n",
      "\n"
     ]
    }
   ],
   "source": [
    "rsum(1, a)"
   ]
  },
  {
   "cell_type": "code",
   "execution_count": 16,
   "id": "f20896b6",
   "metadata": {},
   "outputs": [
    {
     "name": "stdout",
     "output_type": "stream",
     "text": [
      "Dimension:  0\n",
      "Shape    : < >\n",
      " 36\n"
     ]
    }
   ],
   "source": [
    "rsum(1, b)"
   ]
  },
  {
   "cell_type": "code",
   "execution_count": 17,
   "id": "e72a3539",
   "metadata": {},
   "outputs": [
    {
     "name": "stdout",
     "output_type": "stream",
     "text": [
      "Dimension:  1\n",
      "Shape    : <  4>\n",
      "<60 66 72 78 > \n"
     ]
    }
   ],
   "source": [
    "rsum(2, a)"
   ]
  },
  {
   "cell_type": "code",
   "execution_count": 18,
   "id": "7379b542",
   "metadata": {},
   "outputs": [
    {
     "name": "stdout",
     "output_type": "stream",
     "text": [
      "Dimension:  0\n",
      "Shape    : < >\n",
      " 276\n"
     ]
    }
   ],
   "source": [
    "rsum(3, a)"
   ]
  },
  {
   "cell_type": "code",
   "execution_count": null,
   "id": "df35b204",
   "metadata": {},
   "outputs": [],
   "source": []
  }
 ],
 "metadata": {
  "kernelspec": {
   "display_name": "SaC",
   "language": "sac",
   "name": "sac"
  },
  "language_info": {
   "file_extension": ".sac",
   "mimetype": "text/plain",
   "name": "sac"
  }
 },
 "nbformat": 4,
 "nbformat_minor": 5
}
