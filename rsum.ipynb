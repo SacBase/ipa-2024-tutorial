{
 "cells": [
  {
   "cell_type": "markdown",
   "id": "533364ef",
   "metadata": {},
   "source": [
    "## vsum"
   ]
  },
  {
   "cell_type": "code",
   "execution_count": 18,
   "id": "54c51b55",
   "metadata": {},
   "outputs": [],
   "source": [
    "int[m:ishp] vsum(int[n,m:ishp] arr)\n",
    "{\n",
    "    return { iv -> sum ({ jv -> arr[jv ++ iv] | jv < [n] })\n",
    "           | iv < ishp };\n",
    "}"
   ]
  },
  {
   "cell_type": "code",
   "execution_count": 19,
   "id": "38a2eeda",
   "metadata": {},
   "outputs": [],
   "source": [
    "int[m:ishp] rsum (int n, int[n:oshp,m:ishp] arr)\n",
    "{\n",
    "    return { iv -> sum ({ jv -> arr[jv Array::++ iv] | jv < oshp })\n",
    "           | iv < ishp };\n",
    "}"
   ]
  },
  {
   "cell_type": "code",
   "execution_count": null,
   "id": "16eb34c8",
   "metadata": {},
   "outputs": [],
   "source": []
  }
 ],
 "metadata": {
  "kernelspec": {
   "display_name": "SaC",
   "language": "sac",
   "name": "sac"
  },
  "language_info": {
   "file_extension": ".sac",
   "mimetype": "text/plain",
   "name": "sac"
  }
 },
 "nbformat": 4,
 "nbformat_minor": 5
}
