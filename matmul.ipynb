{
 "cells": [
  {
   "cell_type": "markdown",
   "id": "20000e2b",
   "metadata": {},
   "source": [
    "## Matrix Multiply\n",
    "\n",
    "We have seen that matrix multiplication can be written as a one-liner.\n",
    "\n",
    "```\n",
    "int[p,r] matmul(int[p,q] a, int[q,r] b)\n",
    "{\n",
    "    return { [i,j] -> sum(a[i] * b[.,j]) };\n",
    "}\n",
    "```\n",
    "\n",
    "Here we multiply rows of a with columns of b. <br>\n",
    "However this is not the only way of doing matrix multiplication. <br>\n",
    "Instead we can also first compute the transpose of b, and then multiply rows of a with rows of the transposed b."
   ]
  },
  {
   "cell_type": "markdown",
   "id": "3d243680",
   "metadata": {},
   "source": [
    "## Task 1\n",
    "\n",
    "Using a tensor comprehension, define a function that returns the transpose of the given matrix."
   ]
  },
  {
   "cell_type": "code",
   "execution_count": 1,
   "id": "8d117570",
   "metadata": {},
   "outputs": [],
   "source": [
    "int[q,p] transpos(int[p,q] matrix)\n",
    "{\n",
    "    return { [i,j] -> matrix[j,i] };\n",
    "}"
   ]
  },
  {
   "cell_type": "markdown",
   "id": "7be5d32f",
   "metadata": {},
   "source": [
    "## Task 2\n",
    "\n",
    "Making using of this `transpos` function, redefine the definition of `matmul`."
   ]
  },
  {
   "cell_type": "code",
   "execution_count": 2,
   "id": "0aafd13f",
   "metadata": {},
   "outputs": [],
   "source": [
    "int[p,r] matmul(int[p,q] a, int[q,r] b)\n",
    "{\n",
    "    bT = transpos(b);\n",
    "    return { [i,j] -> sum(a[i] * bT[j]) };\n",
    "}"
   ]
  },
  {
   "cell_type": "markdown",
   "id": "921caab7",
   "metadata": {},
   "source": [
    "---"
   ]
  },
  {
   "cell_type": "code",
   "execution_count": 3,
   "id": "c367ac37",
   "metadata": {},
   "outputs": [],
   "source": [
    "int[p,q], int[q,r]\n",
    "create_matrices(int p, int q, int r)\n",
    "{\n",
    "    a = reshape([p,q], iota(p * q));\n",
    "    b = reshape([q,r], iota(q * r));\n",
    "    return (a, b);\n",
    "}"
   ]
  },
  {
   "cell_type": "code",
   "execution_count": 4,
   "id": "5a1d502d",
   "metadata": {},
   "outputs": [],
   "source": [
    "a, b = create_matrices(5, 5, 5);\n",
    "res = matmul(a, b);"
   ]
  },
  {
   "cell_type": "code",
   "execution_count": 5,
   "id": "3b6906da",
   "metadata": {
    "scrolled": false
   },
   "outputs": [
    {
     "name": "stdout",
     "output_type": "stream",
     "text": [
      "Dimension:  2\n",
      "Shape    : <  5,  5>\n",
      "|150 160 170 180 190 | \n",
      "|400 435 470 505 540 | \n",
      "|650 710 770 830 890 | \n",
      "|900 985 1070 1155 1240 | \n",
      "|1150 1260 1370 1480 1590 | \n",
      "\n"
     ]
    }
   ],
   "source": [
    "res"
   ]
  },
  {
   "cell_type": "code",
   "execution_count": null,
   "id": "dc0dcd9f",
   "metadata": {},
   "outputs": [],
   "source": []
  }
 ],
 "metadata": {
  "kernelspec": {
   "display_name": "SaC",
   "language": "sac",
   "name": "sac"
  },
  "language_info": {
   "file_extension": ".sac",
   "mimetype": "text/plain",
   "name": "sac"
  }
 },
 "nbformat": 4,
 "nbformat_minor": 5
}
