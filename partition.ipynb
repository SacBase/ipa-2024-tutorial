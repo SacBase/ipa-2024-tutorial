{
 "cells": [
  {
   "cell_type": "markdown",
   "id": "e3a6db38",
   "metadata": {},
   "source": [
    "## Partition\n",
    "\n",
    "```\n",
    "Dimension:  2\n",
    "Shape    : <  4,  6>\n",
    "| 3  3  3  3  3  3 | \n",
    "| 3  3  3  3  3  3 | \n",
    "| 1  1  2  2  1  1 | \n",
    "| 1  1  2  2  1  1 |\n",
    "```"
   ]
  },
  {
   "cell_type": "code",
   "execution_count": 8,
   "id": "634775e9",
   "metadata": {},
   "outputs": [
    {
     "name": "stdout",
     "output_type": "stream",
     "text": [
      "Dimension:  2\n",
      "Shape    : <  4,  6>\n",
      "| 3  3  3  3  3  3 | \n",
      "| 3  3  3  3  3  3 | \n",
      "| 0  0  0  0  0  0 | \n",
      "| 0  0  0  0  0  0 | \n",
      "\n"
     ]
    }
   ],
   "source": [
    "{ iv -> 3 | [0,0] <= iv < [4,6] step [4,6] width [2,6]\n",
    "}"
   ]
  },
  {
   "cell_type": "code",
   "execution_count": 9,
   "id": "a203499e",
   "metadata": {},
   "outputs": [
    {
     "name": "stdout",
     "output_type": "stream",
     "text": [
      "Dimension:  2\n",
      "Shape    : <  4,  6>\n",
      "| 3  3  3  3  3  3 | \n",
      "| 3  3  3  3  3  3 | \n",
      "| 0  0  2  2  0  0 | \n",
      "| 0  0  2  2  0  0 | \n",
      "\n"
     ]
    }
   ],
   "source": [
    "{ iv -> 3 | [0,0] <= iv < [4,6] step [4,6] width [2,6];\n",
    "  iv -> 2 | [2,2] <= iv < [4,6] step [2,4] width [2,2]\n",
    "}"
   ]
  },
  {
   "cell_type": "code",
   "execution_count": 10,
   "id": "e9e13fd4",
   "metadata": {},
   "outputs": [
    {
     "name": "stdout",
     "output_type": "stream",
     "text": [
      "Dimension:  2\n",
      "Shape    : <  4,  6>\n",
      "| 3  3  3  3  3  3 | \n",
      "| 3  3  3  3  3  3 | \n",
      "| 1  1  2  2  1  1 | \n",
      "| 1  1  2  2  1  1 | \n",
      "\n"
     ]
    }
   ],
   "source": [
    "{ iv -> 3 | [0,0] <= iv < [4,6] step [4,6] width [2,6];\n",
    "  iv -> 2 | [2,2] <= iv < [4,6] step [2,4] width [2,2];\n",
    "  iv -> 1 | [2,0] <= iv < [4,6] step [2,4] width [2,2]\n",
    "}"
   ]
  },
  {
   "cell_type": "code",
   "execution_count": null,
   "id": "6b97f940",
   "metadata": {},
   "outputs": [],
   "source": []
  }
 ],
 "metadata": {
  "kernelspec": {
   "display_name": "SaC",
   "language": "sac",
   "name": "sac"
  },
  "language_info": {
   "file_extension": ".sac",
   "mimetype": "text/plain",
   "name": "sac"
  }
 },
 "nbformat": 4,
 "nbformat_minor": 5
}
