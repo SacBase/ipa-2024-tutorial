{
 "cells": [
  {
   "cell_type": "markdown",
   "id": "42cd259f",
   "metadata": {},
   "source": [
    "# Array Basics\n",
    "\n",
    "Arrays in SaC are created in the same way as you might be used to from other languages. <br>\n",
    "I.e., square brackets `[` `]` with comma-separated elements in between."
   ]
  },
  {
   "cell_type": "code",
   "execution_count": 1,
   "id": "74d8d620",
   "metadata": {},
   "outputs": [
    {
     "name": "stdout",
     "output_type": "stream",
     "text": [
      "Dimension:  1\n",
      "Shape    : <  6>\n",
      "< 1  2  3  4  5  6 > \n"
     ]
    }
   ],
   "source": [
    "[1, 2, 3, 4, 5, 6]"
   ]
  },
  {
   "cell_type": "markdown",
   "id": "aafe5514",
   "metadata": {},
   "source": [
    "Arrays can also be nested."
   ]
  },
  {
   "cell_type": "code",
   "execution_count": 3,
   "id": "66d18e22",
   "metadata": {},
   "outputs": [
    {
     "name": "stdout",
     "output_type": "stream",
     "text": [
      "Dimension:  2\n",
      "Shape    : <  2,  3>\n",
      "| 1  2  3 | \n",
      "| 4  5  6 | \n",
      "\n"
     ]
    }
   ],
   "source": [
    "[[1, 2, 3], [4, 5, 6]]"
   ]
  },
  {
   "cell_type": "code",
   "execution_count": 4,
   "id": "9af1739c",
   "metadata": {},
   "outputs": [
    {
     "name": "stdout",
     "output_type": "stream",
     "text": [
      "Dimension:  2\n",
      "Shape    : <  3,  2>\n",
      "| 1  2 | \n",
      "| 3  4 | \n",
      "| 5  6 | \n",
      "\n"
     ]
    }
   ],
   "source": [
    "[[1, 2], [3, 4], [5, 6]]"
   ]
  },
  {
   "cell_type": "code",
   "execution_count": 2,
   "id": "54525fa6",
   "metadata": {},
   "outputs": [
    {
     "name": "stdout",
     "output_type": "stream",
     "text": [
      "Dimension:  3\n",
      "Shape    : <  1,  1,  6>\n",
      "< 1  2  3  4  5  6 > \n",
      "\n"
     ]
    }
   ],
   "source": [
    "[[[1, 2, 3, 4, 5, 6]]]"
   ]
  },
  {
   "cell_type": "markdown",
   "id": "deb28895",
   "metadata": {},
   "source": [
    "However, every element must have the same shape! <br>\n",
    "In other words: arrays must be _homogeneous_."
   ]
  },
  {
   "cell_type": "code",
   "execution_count": 5,
   "id": "6ef4a5c4",
   "metadata": {},
   "outputs": [
    {
     "name": "stderr",
     "output_type": "stream",
     "text": [
      "//tmp/jup-sac3uc7pixb/tmp8s0v_34c.sac:14: error:\n",
      "  All instances of \"main\" contain type errors\n",
      "//tmp/jup-sac3uc7pixb/tmp8s0v_34c.sac:16: error:\n",
      "  array element #0 (shape: int[3]{1,2...}) and array element #2 (shape: int[2]{4,5}) must have identical shapes.\n",
      "\n",
      "Compilation failed while Running type inference system, 1 error(s).\n",
      "[SaC kernel] sac2c exited with code 53, the executable will not be executed"
     ]
    }
   ],
   "source": [
    "[[1, 2, 3], [4, 5]]"
   ]
  },
  {
   "cell_type": "code",
   "execution_count": null,
   "id": "780b1599",
   "metadata": {},
   "outputs": [],
   "source": [
    "// Feel free to play around a bit\n"
   ]
  },
  {
   "cell_type": "markdown",
   "id": "f29da5cf",
   "metadata": {},
   "source": [
    "---"
   ]
  },
  {
   "cell_type": "markdown",
   "id": "e62e0952",
   "metadata": {},
   "source": [
    "# Generating Arrays\n",
    "\n",
    "We don't want to write large arrays by hand. <br>\n",
    "Arrays can be programatically generated in multiple ways.\n",
    "\n",
    "First, `iota(n)` generates a list of numbers ranging from 0 to n (exclusive)."
   ]
  },
  {
   "cell_type": "code",
   "execution_count": 6,
   "id": "27c5e989",
   "metadata": {},
   "outputs": [
    {
     "name": "stdout",
     "output_type": "stream",
     "text": [
      "Dimension:  1\n",
      "Shape    : < 12>\n",
      "< 0  1  2  3  4  5  6  7  8  9 10 11 > \n"
     ]
    }
   ],
   "source": [
    "iota(12)"
   ]
  },
  {
   "cell_type": "code",
   "execution_count": 7,
   "id": "de361cc8",
   "metadata": {},
   "outputs": [
    {
     "name": "stdout",
     "output_type": "stream",
     "text": [
      "Dimension:  1\n",
      "Shape    : < 12>\n",
      "< 1  2  3  4  5  6  7  8  9 10 11 12 > \n"
     ]
    }
   ],
   "source": [
    "// Make it start from 1\n",
    "iota(12) + 1"
   ]
  },
  {
   "cell_type": "code",
   "execution_count": 8,
   "id": "4884b016",
   "metadata": {},
   "outputs": [
    {
     "name": "stdout",
     "output_type": "stream",
     "text": [
      "Dimension:  1\n",
      "Shape    : < 12>\n",
      "<0.000000e+00 1.000000e+00 2.000000e+00 3.000000e+00 4.000000e+00 5.000000e+00 6.000000e+00 7.000000e+00 8.000000e+00 9.000000e+00 1.000000e+01 1.100000e+01 > \n"
     ]
    }
   ],
   "source": [
    "// Convert it to doubles\n",
    "tod(iota(12))"
   ]
  },
  {
   "cell_type": "code",
   "execution_count": 9,
   "id": "caa27d19",
   "metadata": {},
   "outputs": [
    {
     "name": "stderr",
     "output_type": "stream",
     "text": [
      "[SaC kernel] This is not an expression/statements/function or use/import/typedef\n",
      "======= trying to parse `// Feel free to play around a bit\n",
      "'\n",
      "======= parsing as expression\n",
      "<string-input>:2:1: error:\n",
      "  token EOF cannot start an expression.\n",
      "======= parsing as list of statements\n",
      "<string-input>:2:1: error:\n",
      "  token EOF cannot start an expression.\n",
      "======= parsing as function definition\n",
      "<string-input>:2:1: error:\n",
      "  type expected, `EOF' found\n",
      "<string-input>:2:1: error:\n",
      "  function body or semicolon expected\n",
      "======= parsing as typedef\n",
      "<string-input>:2:1: error:\n",
      "  `typedef' or `external typedef' expected, `EOF' found\n",
      "======= parsing as import\n"
     ]
    }
   ],
   "source": [
    "// Feel free to play around a bit\n"
   ]
  },
  {
   "cell_type": "markdown",
   "id": "8fa774f9",
   "metadata": {},
   "source": [
    "`iota` can also take a shape as an argument."
   ]
  },
  {
   "cell_type": "code",
   "execution_count": 1,
   "id": "31583086",
   "metadata": {},
   "outputs": [
    {
     "name": "stdout",
     "output_type": "stream",
     "text": [
      "Dimension:  3\n",
      "Shape    : <  3,  2,  2>\n",
      "< 0  0 > < 0  1 > \n",
      "< 1  0 > < 1  1 > \n",
      "< 2  0 > < 2  1 > \n",
      "\n"
     ]
    }
   ],
   "source": [
    "iota([3,2])"
   ]
  },
  {
   "cell_type": "code",
   "execution_count": 2,
   "id": "3c518f45",
   "metadata": {},
   "outputs": [
    {
     "name": "stdout",
     "output_type": "stream",
     "text": [
      "Dimension:  4\n",
      "Shape    : <  3,  2,  2,  3>\n",
      "| 0  0  0 |  | 0  1  0 |  \n",
      "| 0  0  1 |  | 0  1  1 |  \n",
      "\n",
      "| 1  0  0 |  | 1  1  0 |  \n",
      "| 1  0  1 |  | 1  1  1 |  \n",
      "\n",
      "| 2  0  0 |  | 2  1  0 |  \n",
      "| 2  0  1 |  | 2  1  1 |  \n",
      "\n",
      "\n"
     ]
    }
   ],
   "source": [
    "iota([3,2,2])"
   ]
  },
  {
   "cell_type": "code",
   "execution_count": null,
   "id": "c110f339",
   "metadata": {},
   "outputs": [],
   "source": [
    "// Feel free to play around a bit\n"
   ]
  },
  {
   "cell_type": "markdown",
   "id": "0feda8dd",
   "metadata": {},
   "source": [
    "## Task 1\n",
    "\n",
    "Define your own version of `iota` for scalars, using a tensor comprehension."
   ]
  },
  {
   "cell_type": "code",
   "execution_count": 1,
   "id": "f06c4380",
   "metadata": {},
   "outputs": [],
   "source": [
    "int[n] my_iota(int n)\n",
    "{\n",
    "    return { [i] -> i | [i] < [n] };\n",
    "}"
   ]
  },
  {
   "cell_type": "code",
   "execution_count": 2,
   "id": "5ea51571",
   "metadata": {
    "scrolled": true
   },
   "outputs": [
    {
     "name": "stdout",
     "output_type": "stream",
     "text": [
      "Dimension:  1\n",
      "Shape    : < 12>\n",
      "< 0  1  2  3  4  5  6  7  8  9 10 11 > \n"
     ]
    }
   ],
   "source": [
    "my_iota(12)"
   ]
  },
  {
   "cell_type": "markdown",
   "id": "9950a53c",
   "metadata": {},
   "source": [
    "## Task 2\n",
    "\n",
    "Define your own version of `iota` for shapes, using a tensor comprehension."
   ]
  },
  {
   "cell_type": "code",
   "execution_count": 3,
   "id": "078c38c3",
   "metadata": {},
   "outputs": [],
   "source": [
    "int[n:shp,n] my_iota(int[n] shp)\n",
    "{\n",
    "    return { iv -> iv | iv < shp };\n",
    "}"
   ]
  },
  {
   "cell_type": "code",
   "execution_count": 4,
   "id": "1ed85381",
   "metadata": {},
   "outputs": [
    {
     "name": "stdout",
     "output_type": "stream",
     "text": [
      "Dimension:  1\n",
      "Shape    : <  0>\n",
      "<>\n"
     ]
    }
   ],
   "source": [
    "my_iota([3,2])"
   ]
  },
  {
   "cell_type": "code",
   "execution_count": 5,
   "id": "ee839939",
   "metadata": {},
   "outputs": [
    {
     "name": "stdout",
     "output_type": "stream",
     "text": [
      "Dimension:  1\n",
      "Shape    : <  0>\n",
      "<>\n"
     ]
    }
   ],
   "source": [
    "my_iota([3,2,2])"
   ]
  },
  {
   "cell_type": "markdown",
   "id": "5c1eedea",
   "metadata": {},
   "source": [
    "---"
   ]
  },
  {
   "cell_type": "markdown",
   "id": "6b1a6fac",
   "metadata": {},
   "source": [
    "## Reshape\n",
    "\n",
    "List can be reshaped into higher-dimensional arrays using `reshape(shp, arr)`."
   ]
  },
  {
   "cell_type": "code",
   "execution_count": 15,
   "id": "f7f12f3b",
   "metadata": {},
   "outputs": [
    {
     "name": "stdout",
     "output_type": "stream",
     "text": [
      "Dimension:  2\n",
      "Shape    : <  2,  6>\n",
      "| 0  1  2  3  4  5 | \n",
      "| 6  7  8  9 10 11 | \n",
      "\n"
     ]
    }
   ],
   "source": [
    "reshape([2,6], iota(12))"
   ]
  },
  {
   "cell_type": "code",
   "execution_count": 16,
   "id": "e832c7e3",
   "metadata": {},
   "outputs": [
    {
     "name": "stdout",
     "output_type": "stream",
     "text": [
      "Dimension:  3\n",
      "Shape    : <  2,  2,  3>\n",
      "< 0  1  2 > < 3  4  5 > \n",
      "< 6  7  8 > < 9 10 11 > \n",
      "\n"
     ]
    }
   ],
   "source": [
    "reshape([2,2,3], iota(12))"
   ]
  },
  {
   "cell_type": "code",
   "execution_count": 17,
   "id": "d4d31b7a",
   "metadata": {
    "scrolled": true
   },
   "outputs": [
    {
     "name": "stdout",
     "output_type": "stream",
     "text": [
      "Dimension:  1\n",
      "Shape    : < 12>\n",
      "< 0  1  2  3  4  5  6  7  8  9 10 11 > \n"
     ]
    }
   ],
   "source": [
    "// We can reshape back to a list as well\n",
    "reshape([12],\n",
    "        reshape([2,6], iota(12)))"
   ]
  },
  {
   "cell_type": "code",
   "execution_count": 18,
   "id": "46594153",
   "metadata": {},
   "outputs": [
    {
     "name": "stderr",
     "output_type": "stream",
     "text": [
      "[SaC kernel] This is not an expression/statements/function or use/import/typedef\n",
      "======= trying to parse `// Feel free to play around a bit\n",
      "'\n",
      "======= parsing as expression\n",
      "<string-input>:2:1: error:\n",
      "  token EOF cannot start an expression.\n",
      "======= parsing as list of statements\n",
      "<string-input>:2:1: error:\n",
      "  token EOF cannot start an expression.\n",
      "======= parsing as function definition\n",
      "<string-input>:2:1: error:\n",
      "  type expected, `EOF' found\n",
      "<string-input>:2:1: error:\n",
      "  function body or semicolon expected\n",
      "======= parsing as typedef\n",
      "<string-input>:2:1: error:\n",
      "  `typedef' or `external typedef' expected, `EOF' found\n",
      "======= parsing as import\n"
     ]
    }
   ],
   "source": [
    "// Feel free to play around a bit\n"
   ]
  },
  {
   "cell_type": "markdown",
   "id": "062de32e",
   "metadata": {},
   "source": [
    "## Genarray\n",
    "\n",
    "We can also directly generated an array of a given shape and default value, using `genarray(shp, default)`."
   ]
  },
  {
   "cell_type": "code",
   "execution_count": null,
   "id": "fce79923",
   "metadata": {},
   "outputs": [],
   "source": [
    "genarray([12], 1)"
   ]
  },
  {
   "cell_type": "code",
   "execution_count": null,
   "id": "cba2122e",
   "metadata": {},
   "outputs": [],
   "source": [
    "genarray([2,6], 1)"
   ]
  },
  {
   "cell_type": "code",
   "execution_count": null,
   "id": "b11aa94a",
   "metadata": {},
   "outputs": [],
   "source": [
    "genarray([2,2,3], 1)"
   ]
  },
  {
   "cell_type": "markdown",
   "id": "9cb397d2",
   "metadata": {},
   "source": [
    "The default value need not be a scalar, it can be an array as well.\n",
    "\n",
    "Note that the resulting shape is a combination of the given shape `shp`, and the shape of the given array `shape(arr)`."
   ]
  },
  {
   "cell_type": "code",
   "execution_count": null,
   "id": "3099a761",
   "metadata": {},
   "outputs": [],
   "source": [
    "genarray([2,2], [1,2,3])"
   ]
  },
  {
   "cell_type": "code",
   "execution_count": null,
   "id": "702ae356",
   "metadata": {},
   "outputs": [],
   "source": [
    "genarray([2], [[1,2,3], [4,5,6]])"
   ]
  },
  {
   "cell_type": "code",
   "execution_count": null,
   "id": "869f9e31",
   "metadata": {},
   "outputs": [],
   "source": [
    "// Feel free to play around a bit\n"
   ]
  },
  {
   "cell_type": "markdown",
   "id": "7a399d48",
   "metadata": {},
   "source": [
    "## Task 3\n",
    "\n",
    "Define your own version of `genarray` for scalars, using a tensor-comprehension."
   ]
  },
  {
   "cell_type": "code",
   "execution_count": 19,
   "id": "70ceeab4",
   "metadata": {},
   "outputs": [],
   "source": [
    "int[n:shp] my_genarray(int[n] shp, int val)\n",
    "{\n",
    "    return { iv -> val | iv < shp };\n",
    "}"
   ]
  },
  {
   "cell_type": "code",
   "execution_count": 20,
   "id": "9e2e563e",
   "metadata": {},
   "outputs": [
    {
     "name": "stdout",
     "output_type": "stream",
     "text": [
      "Dimension:  1\n",
      "Shape    : < 12>\n",
      "< 1  1  1  1  1  1  1  1  1  1  1  1 > \n"
     ]
    }
   ],
   "source": [
    "my_genarray([12], 1)"
   ]
  },
  {
   "cell_type": "code",
   "execution_count": 21,
   "id": "e69ae13d",
   "metadata": {},
   "outputs": [
    {
     "name": "stdout",
     "output_type": "stream",
     "text": [
      "Dimension:  2\n",
      "Shape    : <  2,  6>\n",
      "| 1  1  1  1  1  1 | \n",
      "| 1  1  1  1  1  1 | \n",
      "\n"
     ]
    }
   ],
   "source": [
    "my_genarray([2,6], 1)"
   ]
  },
  {
   "cell_type": "code",
   "execution_count": 22,
   "id": "3ea45afa",
   "metadata": {},
   "outputs": [
    {
     "name": "stdout",
     "output_type": "stream",
     "text": [
      "Dimension:  3\n",
      "Shape    : <  2,  2,  3>\n",
      "< 1  1  1 > < 1  1  1 > \n",
      "< 1  1  1 > < 1  1  1 > \n",
      "\n"
     ]
    }
   ],
   "source": [
    "my_genarray([2,2,3], 1)"
   ]
  },
  {
   "cell_type": "markdown",
   "id": "b6eed549",
   "metadata": {},
   "source": [
    "## Task 4\n",
    "\n",
    "Define your own version of `genarray` for arrays, using a tensor-comprehension."
   ]
  },
  {
   "cell_type": "code",
   "execution_count": 23,
   "id": "e745873c",
   "metadata": {},
   "outputs": [],
   "source": [
    "int[n:shp,d:oshp] my_genarray(int[n] shp, int[d:oshp] val)\n",
    "{\n",
    "    return { iv -> val | iv < shp };\n",
    "}"
   ]
  },
  {
   "cell_type": "code",
   "execution_count": 24,
   "id": "6509397b",
   "metadata": {},
   "outputs": [
    {
     "name": "stdout",
     "output_type": "stream",
     "text": [
      "Dimension:  3\n",
      "Shape    : <  2,  2,  3>\n",
      "< 1  2  3 > < 1  2  3 > \n",
      "< 1  2  3 > < 1  2  3 > \n",
      "\n"
     ]
    }
   ],
   "source": [
    "my_genarray([2,2], [1,2,3])"
   ]
  },
  {
   "cell_type": "code",
   "execution_count": 25,
   "id": "f9a7a3cc",
   "metadata": {},
   "outputs": [
    {
     "name": "stdout",
     "output_type": "stream",
     "text": [
      "Dimension:  3\n",
      "Shape    : <  2,  2,  3>\n",
      "< 1  2  3 > < 4  5  6 > \n",
      "< 1  2  3 > < 4  5  6 > \n",
      "\n"
     ]
    }
   ],
   "source": [
    "my_genarray([2], [[1,2,3], [4,5,6]])"
   ]
  },
  {
   "cell_type": "markdown",
   "id": "d34b3ccb",
   "metadata": {},
   "source": [
    "## Task 5\n",
    "\n",
    "Is it possible to define a single definition of `my_genarray` that works for both scalar and array default values?"
   ]
  },
  {
   "cell_type": "markdown",
   "id": "7eb3cd77",
   "metadata": {},
   "source": [
    "_Your answer here..._"
   ]
  },
  {
   "cell_type": "markdown",
   "id": "046ae992",
   "metadata": {},
   "source": [
    "## Task 6\n",
    "\n",
    "Now try to define a function `my_genarray_i` which also constructs arrays but which replicates elements on the \"inside\".\n",
    "\n",
    "```\n",
    "$ my_genarray_i([2,6], 1)\n",
    "Dimension:  2\n",
    "Shape    : <  2,  6>\n",
    "| 1  1  1  1  1  1 | \n",
    "| 1  1  1  1  1  1 |\n",
    "```\n",
    "\n",
    "```\n",
    "$ my_genarray_i([2,2], [1,2,3])\n",
    "Dimension:  3\n",
    "Shape    : <  3,  2,  2>\n",
    "< 1  1 > < 1  1 > \n",
    "< 2  2 > < 2  2 > \n",
    "< 3  3 > < 3  3 > \n",
    "```\n",
    "\n",
    "```\n",
    "$ my_genarray_i([2], [[1,2,3], [4,5,6]])\n",
    "Dimension:  3\n",
    "Shape    : <  2,  3,  2>\n",
    "< 1  1 > < 2  2 > < 3  3 > \n",
    "< 4  4 > < 5  5 > < 6  6 >\n",
    "```"
   ]
  },
  {
   "cell_type": "code",
   "execution_count": 26,
   "id": "4f581c55",
   "metadata": {},
   "outputs": [],
   "source": [
    "int[d:oshp,n:shp] my_genarray_i(int[n] shp, int[d:oshp] val)\n",
    "{\n",
    "    return { iv -> my_genarray(shp, val[iv]) | iv < oshp };\n",
    "}"
   ]
  },
  {
   "cell_type": "code",
   "execution_count": 27,
   "id": "bfb34da1",
   "metadata": {},
   "outputs": [
    {
     "name": "stdout",
     "output_type": "stream",
     "text": [
      "Dimension:  2\n",
      "Shape    : <  2,  6>\n",
      "| 1  1  1  1  1  1 | \n",
      "| 1  1  1  1  1  1 | \n",
      "\n"
     ]
    }
   ],
   "source": [
    "my_genarray_i([2,6], 1)"
   ]
  },
  {
   "cell_type": "code",
   "execution_count": 28,
   "id": "65eb0676",
   "metadata": {},
   "outputs": [
    {
     "name": "stdout",
     "output_type": "stream",
     "text": [
      "Dimension:  3\n",
      "Shape    : <  3,  2,  2>\n",
      "< 1  1 > < 1  1 > \n",
      "< 2  2 > < 2  2 > \n",
      "< 3  3 > < 3  3 > \n",
      "\n"
     ]
    }
   ],
   "source": [
    "my_genarray_i([2,2], [1,2,3])"
   ]
  },
  {
   "cell_type": "code",
   "execution_count": 29,
   "id": "b3b87eff",
   "metadata": {},
   "outputs": [
    {
     "name": "stdout",
     "output_type": "stream",
     "text": [
      "Dimension:  3\n",
      "Shape    : <  2,  3,  2>\n",
      "< 1  1 > < 2  2 > < 3  3 > \n",
      "< 4  4 > < 5  5 > < 6  6 > \n",
      "\n"
     ]
    }
   ],
   "source": [
    "my_genarray_i([2], [[1,2,3], [4,5,6]])"
   ]
  },
  {
   "cell_type": "code",
   "execution_count": null,
   "id": "9a0f1d15",
   "metadata": {},
   "outputs": [],
   "source": []
  }
 ],
 "metadata": {
  "kernelspec": {
   "display_name": "SaC",
   "language": "sac",
   "name": "sac"
  },
  "language_info": {
   "file_extension": ".sac",
   "mimetype": "text/plain",
   "name": "sac"
  }
 },
 "nbformat": 4,
 "nbformat_minor": 5
}
