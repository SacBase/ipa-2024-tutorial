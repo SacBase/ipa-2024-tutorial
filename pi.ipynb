{
 "cells": [
  {
   "cell_type": "markdown",
   "id": "7077f3c1",
   "metadata": {},
   "source": [
    "<img src=\"images/pi.png\" width=\"500px\">"
   ]
  },
  {
   "cell_type": "markdown",
   "id": "bb2559ea",
   "metadata": {},
   "source": [
    "## Task 1\n",
    "\n",
    "Given `n`, compute $\\Delta x$. I.e. the width of each block."
   ]
  },
  {
   "cell_type": "code",
   "execution_count": 1,
   "id": "8938bdc4",
   "metadata": {},
   "outputs": [],
   "source": [
    "n = 5;\n",
    "// n = 1000000;\n",
    "dx = 1.0 / tod(n);"
   ]
  },
  {
   "cell_type": "code",
   "execution_count": 2,
   "id": "4777d9e1",
   "metadata": {
    "scrolled": true
   },
   "outputs": [
    {
     "name": "stdout",
     "output_type": "stream",
     "text": [
      "Dimension:  0\n",
      "Shape    : < >\n",
      " 0.2\n"
     ]
    }
   ],
   "source": [
    "dx"
   ]
  },
  {
   "cell_type": "markdown",
   "id": "46e4ad96",
   "metadata": {},
   "source": [
    "## Task 2\n",
    "\n",
    "Fill in the function `f`.\n",
    "\n",
    "(The square root function is `Math::sqrt`)"
   ]
  },
  {
   "cell_type": "code",
   "execution_count": 3,
   "id": "5f412afe",
   "metadata": {},
   "outputs": [],
   "source": [
    "double f(double x)\n",
    "{\n",
    "    return Math::sqrt(1.0 - x * x);\n",
    "}"
   ]
  },
  {
   "cell_type": "markdown",
   "id": "48e80679",
   "metadata": {},
   "source": [
    "## Task 3\n",
    "\n",
    "Apply this function to every block."
   ]
  },
  {
   "cell_type": "code",
   "execution_count": 4,
   "id": "252d563f",
   "metadata": {},
   "outputs": [],
   "source": [
    "y = { [i] -> f(tod(i) * dx) | [i] < [n] };"
   ]
  },
  {
   "cell_type": "code",
   "execution_count": 5,
   "id": "fa1fb2bc",
   "metadata": {},
   "outputs": [
    {
     "name": "stdout",
     "output_type": "stream",
     "text": [
      "Dimension:  1\n",
      "Shape    : <  5>\n",
      "<1.000000e+00 9.797959e-01 9.165151e-01 8.000000e-01 6.000000e-01 > \n"
     ]
    }
   ],
   "source": [
    "take([5], y)"
   ]
  },
  {
   "cell_type": "markdown",
   "id": "f5d04da9",
   "metadata": {},
   "source": [
    "## Task 4\n",
    "\n",
    "Compute pi."
   ]
  },
  {
   "cell_type": "code",
   "execution_count": 6,
   "id": "5e4ccd74",
   "metadata": {},
   "outputs": [],
   "source": [
    "quadrant = sum(y) * dx;\n",
    "pi = 4.0 * quadrant;"
   ]
  },
  {
   "cell_type": "code",
   "execution_count": 7,
   "id": "d9cce240",
   "metadata": {},
   "outputs": [
    {
     "name": "stdout",
     "output_type": "stream",
     "text": [
      "Dimension:  0\n",
      "Shape    : < >\n",
      " 3.43705\n"
     ]
    }
   ],
   "source": [
    "pi"
   ]
  },
  {
   "cell_type": "code",
   "execution_count": null,
   "id": "de34c2ea",
   "metadata": {},
   "outputs": [],
   "source": []
  }
 ],
 "metadata": {
  "kernelspec": {
   "display_name": "SaC",
   "language": "sac",
   "name": "sac"
  },
  "language_info": {
   "file_extension": ".sac",
   "mimetype": "text/plain",
   "name": "sac"
  }
 },
 "nbformat": 4,
 "nbformat_minor": 5
}
