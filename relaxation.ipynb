{
 "cells": [
  {
   "cell_type": "code",
   "execution_count": 24,
   "id": "84e28839",
   "metadata": {},
   "outputs": [],
   "source": [
    "double[n,n] relax(double[m,m] weights, double[n,n] arr)\n",
    "{\n",
    "    return { iv -> sum({ ov -> weights[ov] * rotate(m / 2 - ov, arr)[iv] })\n",
    "           | iv < [n,n] };\n",
    "}"
   ]
  },
  {
   "cell_type": "code",
   "execution_count": 19,
   "id": "3ba03974",
   "metadata": {},
   "outputs": [],
   "source": [
    "weights = [[0d, 1d, 0d],\n",
    "           [1d, 4d, 1d],\n",
    "           [0d, 1d, 0d]];\n",
    "// Normalise\n",
    "weights /= sum(weights);\n",
    "\n",
    "arr = genarray([5,5], 0d);\n",
    "arr[2,2] = 1d;"
   ]
  },
  {
   "cell_type": "code",
   "execution_count": 20,
   "id": "8a789377",
   "metadata": {},
   "outputs": [
    {
     "name": "stdout",
     "output_type": "stream",
     "text": [
      "Dimension:  2\n",
      "Shape    : <  5,  5>\n",
      "|0.000000e+00 0.000000e+00 0.000000e+00 0.000000e+00 0.000000e+00 | \n",
      "|0.000000e+00 0.000000e+00 1.250000e-01 0.000000e+00 0.000000e+00 | \n",
      "|0.000000e+00 1.250000e-01 5.000000e-01 1.250000e-01 0.000000e+00 | \n",
      "|0.000000e+00 0.000000e+00 1.250000e-01 0.000000e+00 0.000000e+00 | \n",
      "|0.000000e+00 0.000000e+00 0.000000e+00 0.000000e+00 0.000000e+00 | \n",
      "\n"
     ]
    }
   ],
   "source": [
    "relax(weights, arr)"
   ]
  },
  {
   "cell_type": "code",
   "execution_count": 21,
   "id": "e486add0",
   "metadata": {},
   "outputs": [],
   "source": [
    "weights = [[0d, 0d, 1d, 0d, 0d],\n",
    "           [0d, 1d, 2d, 1d, 0d],\n",
    "           [1d, 2d, 4d, 2d, 1d],\n",
    "           [0d, 1d, 2d, 1d, 0d],\n",
    "           [0d, 0d, 1d, 0d, 0d]];\n",
    "// Normalise\n",
    "weights /= sum(weights);\n",
    "\n",
    "arr = genarray([5,5], 0d);\n",
    "arr[2,2] = 1d;"
   ]
  },
  {
   "cell_type": "code",
   "execution_count": 22,
   "id": "68fe0df0",
   "metadata": {},
   "outputs": [
    {
     "name": "stdout",
     "output_type": "stream",
     "text": [
      "Dimension:  2\n",
      "Shape    : <  5,  5>\n",
      "|0.000000e+00 0.000000e+00 5.000000e-02 0.000000e+00 0.000000e+00 | \n",
      "|0.000000e+00 5.000000e-02 1.000000e-01 5.000000e-02 0.000000e+00 | \n",
      "|5.000000e-02 1.000000e-01 2.000000e-01 1.000000e-01 5.000000e-02 | \n",
      "|0.000000e+00 5.000000e-02 1.000000e-01 5.000000e-02 0.000000e+00 | \n",
      "|0.000000e+00 0.000000e+00 5.000000e-02 0.000000e+00 0.000000e+00 | \n",
      "\n"
     ]
    }
   ],
   "source": [
    "relax(weights, arr)"
   ]
  },
  {
   "cell_type": "code",
   "execution_count": null,
   "id": "57411ab9",
   "metadata": {},
   "outputs": [],
   "source": []
  },
  {
   "cell_type": "code",
   "execution_count": null,
   "id": "73e49882",
   "metadata": {},
   "outputs": [],
   "source": []
  },
  {
   "cell_type": "code",
   "execution_count": null,
   "id": "7adac5c9",
   "metadata": {},
   "outputs": [],
   "source": []
  },
  {
   "cell_type": "code",
   "execution_count": null,
   "id": "aaea91e2",
   "metadata": {},
   "outputs": [],
   "source": []
  }
 ],
 "metadata": {
  "kernelspec": {
   "display_name": "SaC",
   "language": "sac",
   "name": "sac"
  },
  "language_info": {
   "file_extension": ".sac",
   "mimetype": "text/plain",
   "name": "sac"
  }
 },
 "nbformat": 4,
 "nbformat_minor": 5
}
